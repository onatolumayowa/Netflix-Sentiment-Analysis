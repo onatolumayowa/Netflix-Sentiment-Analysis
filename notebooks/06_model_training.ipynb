{
 "cells": [
  {
   "attachments": {},
   "cell_type": "markdown",
   "metadata": {},
   "source": [
    "# 06 - Model Training\n",
    "\n",
    "Model Training: MultinomialNB, LinearSVC+SMOTE, RandomForest, SVM, LogisticRegression\n",
    "Evaluates all models and saves them for deployment."
   ]
  },
  {
   "attachments": {},
   "cell_type": "markdown",
   "metadata": {},
   "source": [
    "## Imports\n"
   ]
  },
  {
   "cell_type": "code",
   "execution_count": 1,
   "metadata": {},
   "outputs": [],
   "source": [
    "import os\n",
    "import pandas as pd\n",
    "import joblib\n",
    "from sklearn.model_selection import train_test_split\n",
    "from sklearn.metrics import classification_report, confusion_matrix\n",
    "from sklearn.feature_extraction.text import TfidfVectorizer\n",
    "from sklearn.naive_bayes import MultinomialNB\n",
    "from sklearn.linear_model import LogisticRegression\n",
    "from sklearn.svm import LinearSVC, SVC\n",
    "from sklearn.ensemble import RandomForestClassifier\n",
    "from imblearn.over_sampling import SMOTE\n",
    "from sklearn.pipeline import Pipeline\n",
    "from pathlib import Path\n",
    "import seaborn as sns\n",
    "import matplotlib.pyplot as plt"
   ]
  },
  {
   "attachments": {},
   "cell_type": "markdown",
   "metadata": {},
   "source": [
    "## Ensure directories exist and Load Dataset"
   ]
  },
  {
   "cell_type": "code",
   "execution_count": 3,
   "metadata": {},
   "outputs": [
    {
     "name": "stdout",
     "output_type": "stream",
     "text": [
      "✅ Loaded Cleaned_labeled dataset with 41238 rows\n"
     ]
    }
   ],
   "source": [
    "os.makedirs(\"../models/final\", exist_ok=True)\n",
    "os.makedirs(\"../reports\", exist_ok=True)\n",
    "\n",
    "# Path\n",
    "CLEANED_OUTPUT_LABELED_PATH = Path(\"../data/netflix_reviews_Cleaned.csv\")\n",
    "\n",
    "# Load\n",
    "df = pd.read_csv(CLEANED_OUTPUT_LABELED_PATH)\n",
    "print(f\"✅ Loaded Cleaned_labeled dataset with {len(df)} rows\")"
   ]
  },
  {
   "attachments": {},
   "cell_type": "markdown",
   "metadata": {},
   "source": []
  }
 ],
 "metadata": {
  "kernelspec": {
   "display_name": "Python (netflix_review)",
   "language": "python",
   "name": "netflix_review"
  },
  "language_info": {
   "codemirror_mode": {
    "name": "ipython",
    "version": 3
   },
   "file_extension": ".py",
   "mimetype": "text/x-python",
   "name": "python",
   "nbconvert_exporter": "python",
   "pygments_lexer": "ipython3",
   "version": "3.11.13"
  },
  "orig_nbformat": 4
 },
 "nbformat": 4,
 "nbformat_minor": 2
}
