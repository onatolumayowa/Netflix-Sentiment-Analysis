{
 "cells": [
  {
   "attachments": {},
   "cell_type": "markdown",
   "metadata": {},
   "source": [
    "# 01 — Data Collection (Netflix App Reviews)\n",
    "\n",
    "This notebook collects Netflix reviews from:\n",
    "- **Google Play Store**\n",
    "- **Apple App Store**\n",
    "\n",
    "\n",
    "✅ Output of this notebook:  \n",
    "`../data/netflix_reviews_raw.csv`\n",
    "\n",
    "This file will be used in **02_data_cleaning.ipynb**.\n"
   ]
  },
  {
   "attachments": {},
   "cell_type": "markdown",
   "metadata": {},
   "source": [
    "## Step 1: Imports & Setup"
   ]
  },
  {
   "cell_type": "code",
   "execution_count": null,
   "metadata": {},
   "outputs": [],
   "source": [
    "\n",
    "import requests\n",
    "import pandas as pd\n",
    "from pathlib import Path"
   ]
  },
  {
   "cell_type": "code",
   "execution_count": null,
   "metadata": {},
   "outputs": [],
   "source": [
    "from google_play_scraper import reviews as play_reviews, Sort\n"
   ]
  },
  {
   "cell_type": "code",
   "execution_count": null,
   "metadata": {},
   "outputs": [],
   "source": [
    "# 1. Scrape Google Play Store Reviews (multi-country)\n",
    "# ---------------------------\n",
    "def get_playstore_reviews(app_id, countries, max_reviews=10000):\n",
    "    all_reviews = []\n",
    "    for country in countries:\n",
    "        print(f\"\\nScraping Play Store reviews ({country})...\")\n",
    "        token = None\n",
    "        country_reviews = []\n",
    "        while True:\n",
    "            reviews, token = play_reviews(\n",
    "                app_id,\n",
    "                lang='en',\n",
    "                country=country.lower(),\n",
    "                sort=Sort.NEWEST,\n",
    "                count=200,\n",
    "                continuation_token=token\n",
    "            )\n",
    "            for r in reviews:\n",
    "                r[\"country\"] = country.upper()\n",
    "            country_reviews.extend(reviews)\n",
    "            print(f\"Collected {len(country_reviews)} Play Store reviews for {country} so far...\")\n",
    "\n",
    "            if not token or len(country_reviews) >= max_reviews:\n",
    "                break\n",
    "        all_reviews.extend(country_reviews)\n",
    "    return all_reviews"
   ]
  },
  {
   "cell_type": "code",
   "execution_count": null,
   "metadata": {},
   "outputs": [],
   "source": [
    "# 2. Scrape Apple App Store Reviews (multi-country)\n",
    "# ---------------------------\n",
    "def get_appstore_reviews(app_id, country=\"us\", pages=10):\n",
    "    \"\"\"Scrape up to ~50 reviews per page. For 500 reviews, use ~10 pages.\"\"\"\n",
    "    all_reviews = []\n",
    "    for page in range(1, pages + 1):\n",
    "        url = f\"https://itunes.apple.com/{country}/rss/customerreviews/id={app_id}/page={page}/json\"\n",
    "        r = requests.get(url)\n",
    "        if r.status_code != 200:\n",
    "            print(f\"Error fetching page {page} for {country}: {r.status_code}\")\n",
    "            break\n",
    "\n",
    "        data = r.json()\n",
    "        if \"feed\" not in data or \"entry\" not in data[\"feed\"]:\n",
    "            print(f\"No more reviews found on page {page} for {country}\")\n",
    "            break\n",
    "\n",
    "        entries = data[\"feed\"][\"entry\"]\n",
    "\n",
    "        # First entry is the app itself\n",
    "        for review in entries[1:]:\n",
    "            all_reviews.append({\n",
    "                \"username\": review[\"author\"][\"name\"][\"label\"],\n",
    "                \"review\": review[\"content\"][\"label\"],\n",
    "                \"rating\": int(review[\"im:rating\"][\"label\"]),\n",
    "                \"date\": review[\"updated\"][\"label\"],\n",
    "                \"country\": country.upper()\n",
    "            })\n",
    "\n",
    "        print(f\"Fetched {len(all_reviews)} reviews so far for {country}...\")\n",
    "\n",
    "        if len(all_reviews) >= 500:  # stop after 500\n",
    "            break\n",
    "\n",
    "    return all_reviews\n",
    "\n"
   ]
  },
  {
   "attachments": {},
   "cell_type": "markdown",
   "metadata": {},
   "source": [
    "## Step 2: Fetch Reviews\n",
    "We run the scraping functions to retrieve reviews from both platforms.\n"
   ]
  },
  {
   "cell_type": "code",
   "execution_count": null,
   "metadata": {},
   "outputs": [],
   "source": [
    "# 3. Run Scrapers\n",
    "# ---------------------------\n",
    "play_countries = [\"NG\", \"CA\", \"US\", \"GB\"]\n",
    "app_countries = [\"ng\", \"ca\", \"us\", \"gb\"]\n",
    "app_id = 363590051  # Netflix App Store ID\n"
   ]
  },
  {
   "cell_type": "code",
   "execution_count": null,
   "metadata": {},
   "outputs": [],
   "source": [
    "# 4. Play Store\n",
    "play_reviews_all = get_playstore_reviews(\"com.netflix.mediaclient\", play_countries, max_reviews=10000)\n",
    "play_df = pd.DataFrame(play_reviews_all)\n",
    "play_df = play_df[['userName', 'content', 'score', 'at', 'country']]\n",
    "play_df.rename(columns={'userName': 'username', 'content': 'review',\n",
    "                        'score': 'rating', 'at': 'date'}, inplace=True)\n",
    "play_df['source'] = 'Play Store'"
   ]
  },
  {
   "cell_type": "code",
   "execution_count": null,
   "metadata": {},
   "outputs": [],
   "source": [
    "# 5. App Store\n",
    "all_appstore_reviews = []\n",
    "for c in app_countries:\n",
    "    print(f\"\\nScraping App Store reviews ({c.upper()})...\")\n",
    "    reviews = get_appstore_reviews(app_id, country=c, pages=10)\n",
    "    all_appstore_reviews.extend(reviews)\n",
    "\n",
    "app_df = pd.DataFrame(all_appstore_reviews)\n",
    "app_df['source'] = 'App Store'"
   ]
  },
  {
   "attachments": {},
   "cell_type": "markdown",
   "metadata": {},
   "source": [
    "## Step 3: Combine Sources into a Single Dataset\n"
   ]
  },
  {
   "cell_type": "code",
   "execution_count": null,
   "metadata": {},
   "outputs": [],
   "source": [
    "# Combine both outcome\n",
    "combined_df = pd.concat([play_df, app_df], ignore_index=True)\n",
    "print(f\"✅ Total combined reviews: {len(combined_df)}\")\n",
    "combined_df"
   ]
  },
  {
   "attachments": {},
   "cell_type": "markdown",
   "metadata": {},
   "source": [
    "## Step 4: Save to `data/`\n"
   ]
  },
  {
   "cell_type": "code",
   "execution_count": null,
   "metadata": {},
   "outputs": [],
   "source": [
    "# To CSV\n",
    "RAW_DATA_PATH = Path(\"../data/netflix_reviews_raw.csv\")"
   ]
  },
  {
   "cell_type": "code",
   "execution_count": null,
   "metadata": {},
   "outputs": [],
   "source": [
    "# Save dataset\n",
    "combined_df.to_csv(RAW_DATA_PATH, index=False)\n",
    "\n",
    "print(\"\\n✅ Saved raw combined dataset to 'data/netflix_reviews_raw.csv'\")\n",
    "print(f\"📊 Total entries: {len(combined_df)}\")"
   ]
  },
  {
   "cell_type": "code",
   "execution_count": null,
   "metadata": {},
   "outputs": [],
   "source": [
    "# Combined Dataset Summary\n",
    "# After merging Play Store and App Store reviews, we save the combined dataset and show the counts for each source.\n",
    "\n",
    "print(\"\\n✅ Saved raw combined dataset to 'data/netflix_reviews_raw.csv'\")\n",
    "print(f\"Play Store reviews: {len(play_df)}\")\n",
    "print(f\"App Store reviews: {len(app_df)}\")\n",
    "print(f\"Total combined: {len(combined_df)}\")"
   ]
  },
  {
   "attachments": {},
   "cell_type": "markdown",
   "metadata": {},
   "source": [
    "### Data Collection Completed!\n",
    "\n",
    "| Source          | Reviews Collected |\n",
    "|----------------|------------------|\n",
    "| Play Store     | ✅ `{len(play_df)}` |\n",
    "| App Store      | ✅ `{len(app_df)}` |\n",
    "| **Total Saved** | 🎯 `{len(combined_df)}` |\n",
    "\n",
    "➡️ Next Notebook: **02_data_cleaning.ipynb**\n"
   ]
  }
 ],
 "metadata": {
  "language_info": {
   "name": "python"
  },
  "orig_nbformat": 4
 },
 "nbformat": 4,
 "nbformat_minor": 2
}
