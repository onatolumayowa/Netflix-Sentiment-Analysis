{
 "cells": [
  {
   "attachments": {},
   "cell_type": "markdown",
   "metadata": {},
   "source": [
    "# 04 — Exploratory Data Analysis (EDA)\n",
    "\n",
    "This notebook explores the  Cleaned labeled Netflix reviews dataset.  \n",
    "It produces and saves visual assets for reporting and Streamlit:\n",
    "\n",
    "- Rating distribution → `assets/rating_distribution.png`  \n",
    "- Final sentiment distribution → `assets/final_sentiment_distribution.png`  \n",
    "- Text vs Rating sentiment comparison → `assets/text_vs_rating_sentiment.png`  \n",
    "- Agreement vs Conflict breakdown → `assets/sentiment_agreement_conflict.png`\n",
    "\n"
   ]
  },
  {
   "attachments": {},
   "cell_type": "markdown",
   "metadata": {},
   "source": [
    "## Load Cleaned Labeled dataset & imports"
   ]
  },
  {
   "cell_type": "code",
   "execution_count": 1,
   "metadata": {},
   "outputs": [],
   "source": [
    "import pandas as pd\n",
    "import matplotlib.pyplot as plt\n",
    "from pathlib import Path\n",
    "import numpy as np\n",
    "import re\n",
    "from collections import Counter\n",
    "from wordcloud import WordCloud"
   ]
  },
  {
   "cell_type": "code",
   "execution_count": 3,
   "metadata": {},
   "outputs": [
    {
     "name": "stdout",
     "output_type": "stream",
     "text": [
      "✅ Loaded Cleaned_labeled dataset with 41960 rows\n"
     ]
    },
    {
     "data": {
      "text/html": [
       "<div>\n",
       "<style scoped>\n",
       "    .dataframe tbody tr th:only-of-type {\n",
       "        vertical-align: middle;\n",
       "    }\n",
       "\n",
       "    .dataframe tbody tr th {\n",
       "        vertical-align: top;\n",
       "    }\n",
       "\n",
       "    .dataframe thead th {\n",
       "        text-align: right;\n",
       "    }\n",
       "</style>\n",
       "<table border=\"1\" class=\"dataframe\">\n",
       "  <thead>\n",
       "    <tr style=\"text-align: right;\">\n",
       "      <th></th>\n",
       "      <th>username</th>\n",
       "      <th>review</th>\n",
       "      <th>rating</th>\n",
       "      <th>date</th>\n",
       "      <th>country</th>\n",
       "      <th>source</th>\n",
       "      <th>clean_review</th>\n",
       "      <th>vader_score</th>\n",
       "      <th>sentiment</th>\n",
       "      <th>sentiment_rating</th>\n",
       "      <th>sentiment_combined</th>\n",
       "      <th>mismatch</th>\n",
       "    </tr>\n",
       "  </thead>\n",
       "  <tbody>\n",
       "    <tr>\n",
       "      <th>0</th>\n",
       "      <td>Robert</td>\n",
       "      <td>brainwashing children. don't deny it, the proo...</td>\n",
       "      <td>1</td>\n",
       "      <td>2025-10-08 00:57:12</td>\n",
       "      <td>NG</td>\n",
       "      <td>Play Store</td>\n",
       "      <td>brainwashing children dont deny proof pudding</td>\n",
       "      <td>-0.1190</td>\n",
       "      <td>negative</td>\n",
       "      <td>negative</td>\n",
       "      <td>negative</td>\n",
       "      <td>NaN</td>\n",
       "    </tr>\n",
       "    <tr>\n",
       "      <th>1</th>\n",
       "      <td>Abraham Bernabe</td>\n",
       "      <td>disgusting woke agenda. just cancel and uninst...</td>\n",
       "      <td>1</td>\n",
       "      <td>2025-10-08 00:35:03</td>\n",
       "      <td>NG</td>\n",
       "      <td>Play Store</td>\n",
       "      <td>disgusting woke agenda cancel uninstall garbage</td>\n",
       "      <td>-0.6597</td>\n",
       "      <td>negative</td>\n",
       "      <td>negative</td>\n",
       "      <td>negative</td>\n",
       "      <td>NaN</td>\n",
       "    </tr>\n",
       "    <tr>\n",
       "      <th>2</th>\n",
       "      <td>Kyle Martin</td>\n",
       "      <td>Please fix the pausing issue. I am trying to w...</td>\n",
       "      <td>2</td>\n",
       "      <td>2025-10-08 00:33:36</td>\n",
       "      <td>NG</td>\n",
       "      <td>Play Store</td>\n",
       "      <td>please fix pausing issue trying watch monday n...</td>\n",
       "      <td>-0.1779</td>\n",
       "      <td>negative</td>\n",
       "      <td>negative</td>\n",
       "      <td>negative</td>\n",
       "      <td>NaN</td>\n",
       "    </tr>\n",
       "    <tr>\n",
       "      <th>3</th>\n",
       "      <td>Jarrett</td>\n",
       "      <td>Doesn't really have that much titles, heh lol</td>\n",
       "      <td>3</td>\n",
       "      <td>2025-10-08 00:30:51</td>\n",
       "      <td>NG</td>\n",
       "      <td>Play Store</td>\n",
       "      <td>doesnt really much titles heh lol</td>\n",
       "      <td>0.2350</td>\n",
       "      <td>positive</td>\n",
       "      <td>neutral</td>\n",
       "      <td>positive</td>\n",
       "      <td>NaN</td>\n",
       "    </tr>\n",
       "    <tr>\n",
       "      <th>4</th>\n",
       "      <td>Michael Raber</td>\n",
       "      <td>gotta pay for the app, they raise the price wi...</td>\n",
       "      <td>1</td>\n",
       "      <td>2025-10-08 00:26:11</td>\n",
       "      <td>NG</td>\n",
       "      <td>Play Store</td>\n",
       "      <td>gotta pay app raise price warning work half time</td>\n",
       "      <td>-0.4215</td>\n",
       "      <td>negative</td>\n",
       "      <td>negative</td>\n",
       "      <td>negative</td>\n",
       "      <td>NaN</td>\n",
       "    </tr>\n",
       "  </tbody>\n",
       "</table>\n",
       "</div>"
      ],
      "text/plain": [
       "          username                                             review  rating  \\\n",
       "0           Robert  brainwashing children. don't deny it, the proo...       1   \n",
       "1  Abraham Bernabe  disgusting woke agenda. just cancel and uninst...       1   \n",
       "2      Kyle Martin  Please fix the pausing issue. I am trying to w...       2   \n",
       "3          Jarrett      Doesn't really have that much titles, heh lol       3   \n",
       "4    Michael Raber  gotta pay for the app, they raise the price wi...       1   \n",
       "\n",
       "                  date country      source  \\\n",
       "0  2025-10-08 00:57:12      NG  Play Store   \n",
       "1  2025-10-08 00:35:03      NG  Play Store   \n",
       "2  2025-10-08 00:33:36      NG  Play Store   \n",
       "3  2025-10-08 00:30:51      NG  Play Store   \n",
       "4  2025-10-08 00:26:11      NG  Play Store   \n",
       "\n",
       "                                        clean_review  vader_score sentiment  \\\n",
       "0      brainwashing children dont deny proof pudding      -0.1190  negative   \n",
       "1    disgusting woke agenda cancel uninstall garbage      -0.6597  negative   \n",
       "2  please fix pausing issue trying watch monday n...      -0.1779  negative   \n",
       "3                  doesnt really much titles heh lol       0.2350  positive   \n",
       "4   gotta pay app raise price warning work half time      -0.4215  negative   \n",
       "\n",
       "  sentiment_rating sentiment_combined mismatch  \n",
       "0         negative           negative      NaN  \n",
       "1         negative           negative      NaN  \n",
       "2         negative           negative      NaN  \n",
       "3          neutral           positive      NaN  \n",
       "4         negative           negative      NaN  "
      ]
     },
     "execution_count": 3,
     "metadata": {},
     "output_type": "execute_result"
    }
   ],
   "source": [
    "# Path\n",
    "CLEANED_OUTPUT_LABELED_PATH = Path(\"../data/netflix_reviews_Cleaned.csv\")\n",
    "\n",
    "# Load\n",
    "df = pd.read_csv(CLEANED_OUTPUT_LABELED_PATH)\n",
    "print(f\"✅ Loaded Cleaned_labeled dataset with {len(df)} rows\")\n",
    "\n",
    "# Quick peek\n",
    "df.head()"
   ]
  },
  {
   "attachments": {},
   "cell_type": "markdown",
   "metadata": {},
   "source": [
    "## Quick dataset summary\n"
   ]
  },
  {
   "cell_type": "code",
   "execution_count": 4,
   "metadata": {},
   "outputs": [
    {
     "name": "stdout",
     "output_type": "stream",
     "text": [
      "Columns: ['username', 'review', 'rating', 'date', 'country', 'source', 'clean_review', 'vader_score', 'sentiment', 'sentiment_rating', 'sentiment_combined', 'mismatch']\n",
      "\n",
      "Data types:\n",
      " username               object\n",
      "review                 object\n",
      "rating                  int64\n",
      "date                   object\n",
      "country                object\n",
      "source                 object\n",
      "clean_review           object\n",
      "vader_score           float64\n",
      "sentiment              object\n",
      "sentiment_rating       object\n",
      "sentiment_combined     object\n",
      "mismatch               object\n",
      "dtype: object\n",
      "\n",
      "Missing values per column:\n",
      " username                  0\n",
      "review                    0\n",
      "rating                    0\n",
      "date                   1960\n",
      "country                   0\n",
      "source                    0\n",
      "clean_review            722\n",
      "vader_score               0\n",
      "sentiment                 0\n",
      "sentiment_rating          0\n",
      "sentiment_combined        0\n",
      "mismatch              36785\n",
      "dtype: int64\n"
     ]
    }
   ],
   "source": [
    "# Basic info and counts\n",
    "print(\"Columns:\", df.columns.tolist())\n",
    "print(\"\\nData types:\\n\", df.dtypes)\n",
    "print(\"\\nMissing values per column:\\n\", df.isna().sum())\n"
   ]
  },
  {
   "cell_type": "code",
   "execution_count": 5,
   "metadata": {},
   "outputs": [
    {
     "name": "stdout",
     "output_type": "stream",
     "text": [
      "\n",
      "Counts by source:\n",
      "source\n",
      "Play Store    40000\n",
      "App Store      1960\n",
      "Name: count, dtype: int64\n"
     ]
    }
   ],
   "source": [
    "# Count per source\n",
    "print(\"\\nCounts by source:\")\n",
    "print(df['source'].value_counts())"
   ]
  },
  {
   "cell_type": "code",
   "execution_count": 6,
   "metadata": {},
   "outputs": [
    {
     "name": "stdout",
     "output_type": "stream",
     "text": [
      "<class 'pandas.core.frame.DataFrame'>\n",
      "RangeIndex: 41960 entries, 0 to 41959\n",
      "Data columns (total 12 columns):\n",
      " #   Column              Non-Null Count  Dtype  \n",
      "---  ------              --------------  -----  \n",
      " 0   username            41960 non-null  object \n",
      " 1   review              41960 non-null  object \n",
      " 2   rating              41960 non-null  int64  \n",
      " 3   date                40000 non-null  object \n",
      " 4   country             41960 non-null  object \n",
      " 5   source              41960 non-null  object \n",
      " 6   clean_review        41238 non-null  object \n",
      " 7   vader_score         41960 non-null  float64\n",
      " 8   sentiment           41960 non-null  object \n",
      " 9   sentiment_rating    41960 non-null  object \n",
      " 10  sentiment_combined  41960 non-null  object \n",
      " 11  mismatch            5175 non-null   object \n",
      "dtypes: float64(1), int64(1), object(10)\n",
      "memory usage: 3.8+ MB\n"
     ]
    }
   ],
   "source": [
    "df.info()"
   ]
  },
  {
   "cell_type": "code",
   "execution_count": 7,
   "metadata": {},
   "outputs": [
    {
     "data": {
      "text/html": [
       "<div>\n",
       "<style scoped>\n",
       "    .dataframe tbody tr th:only-of-type {\n",
       "        vertical-align: middle;\n",
       "    }\n",
       "\n",
       "    .dataframe tbody tr th {\n",
       "        vertical-align: top;\n",
       "    }\n",
       "\n",
       "    .dataframe thead th {\n",
       "        text-align: right;\n",
       "    }\n",
       "</style>\n",
       "<table border=\"1\" class=\"dataframe\">\n",
       "  <thead>\n",
       "    <tr style=\"text-align: right;\">\n",
       "      <th></th>\n",
       "      <th>rating</th>\n",
       "      <th>vader_score</th>\n",
       "    </tr>\n",
       "  </thead>\n",
       "  <tbody>\n",
       "    <tr>\n",
       "      <th>count</th>\n",
       "      <td>41960.000000</td>\n",
       "      <td>41960.000000</td>\n",
       "    </tr>\n",
       "    <tr>\n",
       "      <th>mean</th>\n",
       "      <td>2.976716</td>\n",
       "      <td>0.181137</td>\n",
       "    </tr>\n",
       "    <tr>\n",
       "      <th>std</th>\n",
       "      <td>1.845082</td>\n",
       "      <td>0.454996</td>\n",
       "    </tr>\n",
       "    <tr>\n",
       "      <th>min</th>\n",
       "      <td>1.000000</td>\n",
       "      <td>-0.964300</td>\n",
       "    </tr>\n",
       "    <tr>\n",
       "      <th>25%</th>\n",
       "      <td>1.000000</td>\n",
       "      <td>0.000000</td>\n",
       "    </tr>\n",
       "    <tr>\n",
       "      <th>50%</th>\n",
       "      <td>3.000000</td>\n",
       "      <td>0.226300</td>\n",
       "    </tr>\n",
       "    <tr>\n",
       "      <th>75%</th>\n",
       "      <td>5.000000</td>\n",
       "      <td>0.571900</td>\n",
       "    </tr>\n",
       "    <tr>\n",
       "      <th>max</th>\n",
       "      <td>5.000000</td>\n",
       "      <td>0.995100</td>\n",
       "    </tr>\n",
       "  </tbody>\n",
       "</table>\n",
       "</div>"
      ],
      "text/plain": [
       "             rating   vader_score\n",
       "count  41960.000000  41960.000000\n",
       "mean       2.976716      0.181137\n",
       "std        1.845082      0.454996\n",
       "min        1.000000     -0.964300\n",
       "25%        1.000000      0.000000\n",
       "50%        3.000000      0.226300\n",
       "75%        5.000000      0.571900\n",
       "max        5.000000      0.995100"
      ]
     },
     "execution_count": 7,
     "metadata": {},
     "output_type": "execute_result"
    }
   ],
   "source": [
    "df.describe()"
   ]
  },
  {
   "cell_type": "code",
   "execution_count": 8,
   "metadata": {},
   "outputs": [
    {
     "data": {
      "text/plain": [
       "rating\n",
       "1    17512\n",
       "5    16920\n",
       "4     2672\n",
       "2     2465\n",
       "3     2391\n",
       "Name: count, dtype: int64"
      ]
     },
     "execution_count": 8,
     "metadata": {},
     "output_type": "execute_result"
    }
   ],
   "source": [
    "df['rating'].value_counts()"
   ]
  },
  {
   "cell_type": "code",
   "execution_count": 9,
   "metadata": {},
   "outputs": [
    {
     "name": "stdout",
     "output_type": "stream",
     "text": [
      "                    mean_rating  median_rating\n",
      "country source                                \n",
      "CA      App Store      3.359184            4.0\n",
      "        Play Store     2.959700            3.0\n",
      "GB      App Store      3.810204            5.0\n",
      "        Play Store     2.959700            3.0\n",
      "NG      App Store      3.148980            3.0\n",
      "        Play Store     2.959700            3.0\n",
      "US      App Store      2.977551            3.0\n",
      "        Play Store     2.959700            3.0\n"
     ]
    }
   ],
   "source": [
    "# Mean and Median rating per Country and Source\n",
    "grouped = df.groupby(['country', 'source'])['rating']\n",
    "print(pd.DataFrame({\n",
    "    'mean_rating': grouped.mean(),\n",
    "    'median_rating': grouped.median()\n",
    "}))"
   ]
  },
  {
   "cell_type": "code",
   "execution_count": 13,
   "metadata": {},
   "outputs": [
    {
     "name": "stdout",
     "output_type": "stream",
     "text": [
      "📁 'assets' folder verified/created.\n"
     ]
    }
   ],
   "source": [
    "import os\n",
    "\n",
    "# Ensure assets folder exists\n",
    "os.makedirs(\"assets\", exist_ok=True)\n",
    "print(\"📁 'assets' folder verified/created.\")\n"
   ]
  },
  {
   "attachments": {},
   "cell_type": "markdown",
   "metadata": {},
   "source": [
    "# Rating Distribution"
   ]
  },
  {
   "cell_type": "code",
   "execution_count": 15,
   "metadata": {},
   "outputs": [
    {
     "name": "stdout",
     "output_type": "stream",
     "text": [
      "\n",
      "Rating distribution:\n"
     ]
    },
    {
     "data": {
      "image/png": "[encoded data removed]",
      "text/plain": [
       "<Figure size 640x480 with 1 Axes>"
      ]
     },
     "metadata": {},
     "output_type": "display_data"
    }
   ],
   "source": [
    "print(\"\\nRating distribution:\")\n",
    "# Count ratings and sort descending\n",
    "rating_counts = df['rating'].value_counts().sort_values(ascending=False)\n",
    "\n",
    "# Generate colors based on counts (deeper color for higher count)\n",
    "colors = plt.cm.Blues(rating_counts / rating_counts.max())\n",
    "\n",
    "# Plot\n",
    "rating_counts.plot(kind='bar', color=colors, title='Rating Distribution (Stars)')\n",
    "plt.xlabel('Rating')\n",
    "plt.ylabel('Count')\n",
    "plt.tight_layout()\n",
    "plt.savefig(\"assets/rating_distribution.png\")\n",
    "plt.show()\n"
   ]
  }
 ],
 "metadata": {
  "kernelspec": {
   "display_name": "Python (netflix_review)",
   "language": "python",
   "name": "netflix_review"
  },
  "language_info": {
   "codemirror_mode": {
    "name": "ipython",
    "version": 3
   },
   "file_extension": ".py",
   "mimetype": "text/x-python",
   "name": "python",
   "nbconvert_exporter": "python",
   "pygments_lexer": "ipython3",
   "version": "3.11.13"
  },
  "orig_nbformat": 4
 },
 "nbformat": 4,
 "nbformat_minor": 2
}
