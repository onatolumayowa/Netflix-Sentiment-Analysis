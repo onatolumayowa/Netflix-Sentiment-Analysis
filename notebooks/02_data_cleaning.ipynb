{
 "cells": [
  {
   "attachments": {},
   "cell_type": "markdown",
   "metadata": {},
   "source": [
    "# 02 — Data Cleaning (Netflix Reviews)\n",
    "\n",
    "In this notebook, we clean the raw collected Netflix reviews by:\n",
    "- Removing null or duplicate reviews\n",
    "- Normalizing text (lowercasing, trimming spaces)\n",
    "- Keeping only relevant columns (review, rating, source, etc.)\n",
    "\n",
    "✅ Output of this notebook:  \n",
    "`../data/netflix_reviews_clean.csv`\n"
   ]
  },
  {
   "attachments": {},
   "cell_type": "markdown",
   "metadata": {},
   "source": [
    "## Step 1: Load Raw Dataset"
   ]
  },
  {
   "cell_type": "code",
   "execution_count": 2,
   "metadata": {},
   "outputs": [],
   "source": [
    "import re\n",
    "import pandas as pd\n",
    "from pathlib import Path"
   ]
  },
  {
   "cell_type": "code",
   "execution_count": 4,
   "metadata": {},
   "outputs": [
    {
     "name": "stdout",
     "output_type": "stream",
     "text": [
      "✅ Loaded raw dataset with 41960 rows\n"
     ]
    },
    {
     "data": {
      "text/html": [
       "<div>\n",
       "<style scoped>\n",
       "    .dataframe tbody tr th:only-of-type {\n",
       "        vertical-align: middle;\n",
       "    }\n",
       "\n",
       "    .dataframe tbody tr th {\n",
       "        vertical-align: top;\n",
       "    }\n",
       "\n",
       "    .dataframe thead th {\n",
       "        text-align: right;\n",
       "    }\n",
       "</style>\n",
       "<table border=\"1\" class=\"dataframe\">\n",
       "  <thead>\n",
       "    <tr style=\"text-align: right;\">\n",
       "      <th></th>\n",
       "      <th>username</th>\n",
       "      <th>review</th>\n",
       "      <th>rating</th>\n",
       "      <th>date</th>\n",
       "      <th>country</th>\n",
       "      <th>source</th>\n",
       "    </tr>\n",
       "  </thead>\n",
       "  <tbody>\n",
       "    <tr>\n",
       "      <th>0</th>\n",
       "      <td>Robert</td>\n",
       "      <td>brainwashing children. don't deny it, the proo...</td>\n",
       "      <td>1</td>\n",
       "      <td>2025-10-08 00:57:12</td>\n",
       "      <td>NG</td>\n",
       "      <td>Play Store</td>\n",
       "    </tr>\n",
       "    <tr>\n",
       "      <th>1</th>\n",
       "      <td>Abraham Bernabe</td>\n",
       "      <td>disgusting woke agenda. just cancel and uninst...</td>\n",
       "      <td>1</td>\n",
       "      <td>2025-10-08 00:35:03</td>\n",
       "      <td>NG</td>\n",
       "      <td>Play Store</td>\n",
       "    </tr>\n",
       "    <tr>\n",
       "      <th>2</th>\n",
       "      <td>Kyle Martin</td>\n",
       "      <td>Please fix the pausing issue. I am trying to w...</td>\n",
       "      <td>2</td>\n",
       "      <td>2025-10-08 00:33:36</td>\n",
       "      <td>NG</td>\n",
       "      <td>Play Store</td>\n",
       "    </tr>\n",
       "    <tr>\n",
       "      <th>3</th>\n",
       "      <td>Jarrett</td>\n",
       "      <td>Doesn't really have that much titles, heh lol</td>\n",
       "      <td>3</td>\n",
       "      <td>2025-10-08 00:30:51</td>\n",
       "      <td>NG</td>\n",
       "      <td>Play Store</td>\n",
       "    </tr>\n",
       "    <tr>\n",
       "      <th>4</th>\n",
       "      <td>Michael Raber</td>\n",
       "      <td>gotta pay for the app, they raise the price wi...</td>\n",
       "      <td>1</td>\n",
       "      <td>2025-10-08 00:26:11</td>\n",
       "      <td>NG</td>\n",
       "      <td>Play Store</td>\n",
       "    </tr>\n",
       "  </tbody>\n",
       "</table>\n",
       "</div>"
      ],
      "text/plain": [
       "          username                                             review  rating  \\\n",
       "0           Robert  brainwashing children. don't deny it, the proo...       1   \n",
       "1  Abraham Bernabe  disgusting woke agenda. just cancel and uninst...       1   \n",
       "2      Kyle Martin  Please fix the pausing issue. I am trying to w...       2   \n",
       "3          Jarrett      Doesn't really have that much titles, heh lol       3   \n",
       "4    Michael Raber  gotta pay for the app, they raise the price wi...       1   \n",
       "\n",
       "                  date country      source  \n",
       "0  2025-10-08 00:57:12      NG  Play Store  \n",
       "1  2025-10-08 00:35:03      NG  Play Store  \n",
       "2  2025-10-08 00:33:36      NG  Play Store  \n",
       "3  2025-10-08 00:30:51      NG  Play Store  \n",
       "4  2025-10-08 00:26:11      NG  Play Store  "
      ]
     },
     "execution_count": 4,
     "metadata": {},
     "output_type": "execute_result"
    }
   ],
   "source": [
    "# Load raw dataset\n",
    "RAW_DATA_PATH = Path(\"../data/netflix_reviews_raw.csv\")\n",
    "df = pd.read_csv(RAW_DATA_PATH)\n",
    "\n",
    "print(f\"✅ Loaded raw dataset with {len(df)} rows\")\n",
    "df.head()"
   ]
  },
  {
   "attachments": {},
   "cell_type": "markdown",
   "metadata": {},
   "source": [
    "## Step 2: Basic Cleaning — Remove Null & Duplicate Reviews\n"
   ]
  },
  {
   "cell_type": "code",
   "execution_count": 5,
   "metadata": {},
   "outputs": [],
   "source": [
    "# Remove duplicates\n",
    "df.drop_duplicates(inplace=True)\n"
   ]
  },
  {
   "cell_type": "code",
   "execution_count": 6,
   "metadata": {},
   "outputs": [
    {
     "name": "stdout",
     "output_type": "stream",
     "text": [
      "✅ After cleaning nulls & duplicates: 41960 rows remain\n"
     ]
    }
   ],
   "source": [
    "# Handle missing values\n",
    "df.dropna(subset=['review'], inplace=True)  # remove rows without text\n",
    "df.reset_index(drop=True, inplace=True)\n",
    "\n",
    "print(f\"✅ After cleaning nulls & duplicates: {len(df)} rows remain\")"
   ]
  },
  {
   "attachments": {},
   "cell_type": "markdown",
   "metadata": {},
   "source": [
    "## Step 3: Normalize Text (lowercase, strip whitespace)\n"
   ]
  },
  {
   "cell_type": "code",
   "execution_count": 7,
   "metadata": {},
   "outputs": [],
   "source": [
    "# Text preprocessing\n",
    "stop_words = {\n",
    "    \"i\",\"me\",\"my\",\"myself\",\"we\",\"our\",\"ours\",\"ourselves\",\"you\",\"your\",\"yours\",\"yourself\",\n",
    "    \"yourselves\",\"he\",\"him\",\"his\",\"himself\",\"she\",\"her\",\"hers\",\"herself\",\"it\",\"its\",\"itself\",\n",
    "    \"they\",\"them\",\"their\",\"theirs\",\"themselves\",\"what\",\"which\",\"who\",\"whom\",\"this\",\"that\",\n",
    "    \"these\",\"those\",\"am\",\"is\",\"are\",\"was\",\"were\",\"be\",\"been\",\"being\",\"have\",\"has\",\"had\",\n",
    "    \"having\",\"do\",\"does\",\"did\",\"doing\",\"a\",\"an\",\"the\",\"and\",\"but\",\"if\",\"or\",\"because\",\"as\",\n",
    "    \"until\",\"while\",\"of\",\"at\",\"by\",\"for\",\"with\",\"about\",\"against\",\"between\",\"into\",\"through\",\n",
    "    \"during\",\"before\",\"after\",\"above\",\"below\",\"to\",\"from\",\"up\",\"down\",\"in\",\"out\",\"on\",\"off\",\n",
    "    \"over\",\"under\",\"again\",\"further\",\"then\",\"once\",\"here\",\"there\",\"when\",\"where\",\"why\",\"how\",\n",
    "    \"all\",\"any\",\"both\",\"each\",\"few\",\"more\",\"most\",\"other\",\"some\",\"such\",\"no\",\"nor\",\"not\",\n",
    "    \"only\",\"own\",\"same\",\"so\",\"than\",\"too\",\"very\",\"s\",\"t\",\"can\",\"will\",\"just\",\"don\",\"should\",\n",
    "    \"now\"\n",
    "}\n"
   ]
  },
  {
   "cell_type": "code",
   "execution_count": 8,
   "metadata": {},
   "outputs": [],
   "source": [
    "# Cleaning function\n",
    "def clean_text(text):\n",
    "    text = str(text).lower()                          # lowercase\n",
    "    text = re.sub(r\"http\\S+|www\\S+\", \"\", text)        # remove links\n",
    "    text = re.sub(r\"[^a-z\\s]\", \"\", text)              # remove punctuation & numbers\n",
    "    text = re.sub(r\"\\s+\", \" \", text).strip()          # remove extra spaces\n",
    "    # remove stopwords\n",
    "    text = \" \".join([word for word in text.split() if word not in stop_words])\n",
    "    return text"
   ]
  },
  {
   "cell_type": "code",
   "execution_count": 9,
   "metadata": {},
   "outputs": [
    {
     "data": {
      "text/html": [
       "<div>\n",
       "<style scoped>\n",
       "    .dataframe tbody tr th:only-of-type {\n",
       "        vertical-align: middle;\n",
       "    }\n",
       "\n",
       "    .dataframe tbody tr th {\n",
       "        vertical-align: top;\n",
       "    }\n",
       "\n",
       "    .dataframe thead th {\n",
       "        text-align: right;\n",
       "    }\n",
       "</style>\n",
       "<table border=\"1\" class=\"dataframe\">\n",
       "  <thead>\n",
       "    <tr style=\"text-align: right;\">\n",
       "      <th></th>\n",
       "      <th>username</th>\n",
       "      <th>review</th>\n",
       "      <th>rating</th>\n",
       "      <th>date</th>\n",
       "      <th>country</th>\n",
       "      <th>source</th>\n",
       "      <th>clean_review</th>\n",
       "    </tr>\n",
       "  </thead>\n",
       "  <tbody>\n",
       "    <tr>\n",
       "      <th>0</th>\n",
       "      <td>Robert</td>\n",
       "      <td>brainwashing children. don't deny it, the proo...</td>\n",
       "      <td>1</td>\n",
       "      <td>2025-10-08 00:57:12</td>\n",
       "      <td>NG</td>\n",
       "      <td>Play Store</td>\n",
       "      <td>brainwashing children dont deny proof pudding</td>\n",
       "    </tr>\n",
       "    <tr>\n",
       "      <th>1</th>\n",
       "      <td>Abraham Bernabe</td>\n",
       "      <td>disgusting woke agenda. just cancel and uninst...</td>\n",
       "      <td>1</td>\n",
       "      <td>2025-10-08 00:35:03</td>\n",
       "      <td>NG</td>\n",
       "      <td>Play Store</td>\n",
       "      <td>disgusting woke agenda cancel uninstall garbage</td>\n",
       "    </tr>\n",
       "    <tr>\n",
       "      <th>2</th>\n",
       "      <td>Kyle Martin</td>\n",
       "      <td>Please fix the pausing issue. I am trying to w...</td>\n",
       "      <td>2</td>\n",
       "      <td>2025-10-08 00:33:36</td>\n",
       "      <td>NG</td>\n",
       "      <td>Play Store</td>\n",
       "      <td>please fix pausing issue trying watch monday n...</td>\n",
       "    </tr>\n",
       "    <tr>\n",
       "      <th>3</th>\n",
       "      <td>Jarrett</td>\n",
       "      <td>Doesn't really have that much titles, heh lol</td>\n",
       "      <td>3</td>\n",
       "      <td>2025-10-08 00:30:51</td>\n",
       "      <td>NG</td>\n",
       "      <td>Play Store</td>\n",
       "      <td>doesnt really much titles heh lol</td>\n",
       "    </tr>\n",
       "    <tr>\n",
       "      <th>4</th>\n",
       "      <td>Michael Raber</td>\n",
       "      <td>gotta pay for the app, they raise the price wi...</td>\n",
       "      <td>1</td>\n",
       "      <td>2025-10-08 00:26:11</td>\n",
       "      <td>NG</td>\n",
       "      <td>Play Store</td>\n",
       "      <td>gotta pay app raise price warning work half time</td>\n",
       "    </tr>\n",
       "  </tbody>\n",
       "</table>\n",
       "</div>"
      ],
      "text/plain": [
       "          username                                             review  rating  \\\n",
       "0           Robert  brainwashing children. don't deny it, the proo...       1   \n",
       "1  Abraham Bernabe  disgusting woke agenda. just cancel and uninst...       1   \n",
       "2      Kyle Martin  Please fix the pausing issue. I am trying to w...       2   \n",
       "3          Jarrett      Doesn't really have that much titles, heh lol       3   \n",
       "4    Michael Raber  gotta pay for the app, they raise the price wi...       1   \n",
       "\n",
       "                  date country      source  \\\n",
       "0  2025-10-08 00:57:12      NG  Play Store   \n",
       "1  2025-10-08 00:35:03      NG  Play Store   \n",
       "2  2025-10-08 00:33:36      NG  Play Store   \n",
       "3  2025-10-08 00:30:51      NG  Play Store   \n",
       "4  2025-10-08 00:26:11      NG  Play Store   \n",
       "\n",
       "                                        clean_review  \n",
       "0      brainwashing children dont deny proof pudding  \n",
       "1    disgusting woke agenda cancel uninstall garbage  \n",
       "2  please fix pausing issue trying watch monday n...  \n",
       "3                  doesnt really much titles heh lol  \n",
       "4   gotta pay app raise price warning work half time  "
      ]
     },
     "execution_count": 9,
     "metadata": {},
     "output_type": "execute_result"
    }
   ],
   "source": [
    "# Apply cleaning\n",
    "df[\"clean_review\"] = df[\"review\"].apply(clean_text)\n",
    "df.head()"
   ]
  },
  {
   "attachments": {},
   "cell_type": "markdown",
   "metadata": {},
   "source": [
    "## Drop Rows Where Clean Review is Missing"
   ]
  },
  {
   "cell_type": "code",
   "execution_count": 10,
   "metadata": {},
   "outputs": [
    {
     "name": "stdout",
     "output_type": "stream",
     "text": [
      "✅ Cleaned dataset after dropping empty reviews: 41238 rows remaining\n"
     ]
    }
   ],
   "source": [
    "# Drop rows where clean_review is missing or empty\n",
    "df = df.dropna(subset=['clean_review'])  # Remove NaN values\n",
    "df = df[df['clean_review'].str.strip() != \"\"]  # Remove blank strings if any\n",
    "\n",
    "print(f\"✅ Cleaned dataset after dropping empty reviews: {len(df)} rows remaining\")\n"
   ]
  },
  {
   "attachments": {},
   "cell_type": "markdown",
   "metadata": {},
   "source": [
    "## Step 4: Save Cleaned Dataset for Next Notebook\n"
   ]
  },
  {
   "cell_type": "code",
   "execution_count": 11,
   "metadata": {},
   "outputs": [
    {
     "name": "stdout",
     "output_type": "stream",
     "text": [
      "\n",
      "✅ Cleaned dataset saved to 'data/netflix_reviews_clean.csv'\n",
      "📊 Total cleaned reviews: 41238\n"
     ]
    }
   ],
   "source": [
    "CLEANED_DATA_PATH = Path(\"../data/netflix_reviews_clean.csv\")\n",
    "df.to_csv(CLEANED_DATA_PATH, index=False)\n",
    "\n",
    "print(\"\\n✅ Cleaned dataset saved to 'data/netflix_reviews_clean.csv'\")\n",
    "print(f\"📊 Total cleaned reviews: {len(df)}\")\n"
   ]
  },
  {
   "attachments": {},
   "cell_type": "markdown",
   "metadata": {},
   "source": [
    "### Data Cleaning Completed!\n",
    "\n",
    "➡️ Next Notebook: **03_sentiment_mapping.ipynb**\n"
   ]
  }
 ],
 "metadata": {
  "kernelspec": {
   "display_name": "Python (netflix_review)",
   "language": "python",
   "name": "netflix_review"
  },
  "language_info": {
   "codemirror_mode": {
    "name": "ipython",
    "version": 3
   },
   "file_extension": ".py",
   "mimetype": "text/x-python",
   "name": "python",
   "nbconvert_exporter": "python",
   "pygments_lexer": "ipython3",
   "version": "3.11.13"
  },
  "orig_nbformat": 4
 },
 "nbformat": 4,
 "nbformat_minor": 2
}
