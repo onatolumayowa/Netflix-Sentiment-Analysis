{
 "cells": [
  {
   "attachments": {},
   "cell_type": "markdown",
   "metadata": {},
   "source": [
    "# 03 — Sentiment Mapping (Text + Rating Combined)\n",
    "\n",
    "In this notebook, we apply VADER sentiment to review text, generate rating-based sentiment,\n",
    "and combine both into a final sentiment label.\n",
    "\n",
    "✅ Input: `../data/netflix_reviews_clean.csv`  \n",
    "✅ Output: `../data/netflix_reviews_cleaned.csv`\n"
   ]
  },
  {
   "attachments": {},
   "cell_type": "markdown",
   "metadata": {},
   "source": [
    "## Step 1: Load Clean Dataset"
   ]
  },
  {
   "cell_type": "code",
   "execution_count": 1,
   "metadata": {},
   "outputs": [
    {
     "name": "stdout",
     "output_type": "stream",
     "text": [
      "✅ Loaded cleaned dataset with 41238 reviews\n"
     ]
    },
    {
     "data": {
      "text/html": [
       "<div>\n",
       "<style scoped>\n",
       "    .dataframe tbody tr th:only-of-type {\n",
       "        vertical-align: middle;\n",
       "    }\n",
       "\n",
       "    .dataframe tbody tr th {\n",
       "        vertical-align: top;\n",
       "    }\n",
       "\n",
       "    .dataframe thead th {\n",
       "        text-align: right;\n",
       "    }\n",
       "</style>\n",
       "<table border=\"1\" class=\"dataframe\">\n",
       "  <thead>\n",
       "    <tr style=\"text-align: right;\">\n",
       "      <th></th>\n",
       "      <th>username</th>\n",
       "      <th>review</th>\n",
       "      <th>rating</th>\n",
       "      <th>date</th>\n",
       "      <th>country</th>\n",
       "      <th>source</th>\n",
       "      <th>clean_review</th>\n",
       "    </tr>\n",
       "  </thead>\n",
       "  <tbody>\n",
       "    <tr>\n",
       "      <th>0</th>\n",
       "      <td>Robert</td>\n",
       "      <td>brainwashing children. don't deny it, the proo...</td>\n",
       "      <td>1</td>\n",
       "      <td>2025-10-08 00:57:12</td>\n",
       "      <td>NG</td>\n",
       "      <td>Play Store</td>\n",
       "      <td>brainwashing children dont deny proof pudding</td>\n",
       "    </tr>\n",
       "    <tr>\n",
       "      <th>1</th>\n",
       "      <td>Abraham Bernabe</td>\n",
       "      <td>disgusting woke agenda. just cancel and uninst...</td>\n",
       "      <td>1</td>\n",
       "      <td>2025-10-08 00:35:03</td>\n",
       "      <td>NG</td>\n",
       "      <td>Play Store</td>\n",
       "      <td>disgusting woke agenda cancel uninstall garbage</td>\n",
       "    </tr>\n",
       "    <tr>\n",
       "      <th>2</th>\n",
       "      <td>Kyle Martin</td>\n",
       "      <td>Please fix the pausing issue. I am trying to w...</td>\n",
       "      <td>2</td>\n",
       "      <td>2025-10-08 00:33:36</td>\n",
       "      <td>NG</td>\n",
       "      <td>Play Store</td>\n",
       "      <td>please fix pausing issue trying watch monday n...</td>\n",
       "    </tr>\n",
       "    <tr>\n",
       "      <th>3</th>\n",
       "      <td>Jarrett</td>\n",
       "      <td>Doesn't really have that much titles, heh lol</td>\n",
       "      <td>3</td>\n",
       "      <td>2025-10-08 00:30:51</td>\n",
       "      <td>NG</td>\n",
       "      <td>Play Store</td>\n",
       "      <td>doesnt really much titles heh lol</td>\n",
       "    </tr>\n",
       "    <tr>\n",
       "      <th>4</th>\n",
       "      <td>Michael Raber</td>\n",
       "      <td>gotta pay for the app, they raise the price wi...</td>\n",
       "      <td>1</td>\n",
       "      <td>2025-10-08 00:26:11</td>\n",
       "      <td>NG</td>\n",
       "      <td>Play Store</td>\n",
       "      <td>gotta pay app raise price warning work half time</td>\n",
       "    </tr>\n",
       "  </tbody>\n",
       "</table>\n",
       "</div>"
      ],
      "text/plain": [
       "          username                                             review  rating  \\\n",
       "0           Robert  brainwashing children. don't deny it, the proo...       1   \n",
       "1  Abraham Bernabe  disgusting woke agenda. just cancel and uninst...       1   \n",
       "2      Kyle Martin  Please fix the pausing issue. I am trying to w...       2   \n",
       "3          Jarrett      Doesn't really have that much titles, heh lol       3   \n",
       "4    Michael Raber  gotta pay for the app, they raise the price wi...       1   \n",
       "\n",
       "                  date country      source  \\\n",
       "0  2025-10-08 00:57:12      NG  Play Store   \n",
       "1  2025-10-08 00:35:03      NG  Play Store   \n",
       "2  2025-10-08 00:33:36      NG  Play Store   \n",
       "3  2025-10-08 00:30:51      NG  Play Store   \n",
       "4  2025-10-08 00:26:11      NG  Play Store   \n",
       "\n",
       "                                        clean_review  \n",
       "0      brainwashing children dont deny proof pudding  \n",
       "1    disgusting woke agenda cancel uninstall garbage  \n",
       "2  please fix pausing issue trying watch monday n...  \n",
       "3                  doesnt really much titles heh lol  \n",
       "4   gotta pay app raise price warning work half time  "
      ]
     },
     "execution_count": 1,
     "metadata": {},
     "output_type": "execute_result"
    }
   ],
   "source": [
    "import pandas as pd\n",
    "from pathlib import Path\n",
    "\n",
    "CLEAN_DATA_PATH = Path(\"../data/netflix_reviews_clean.csv\")\n",
    "df = pd.read_csv(CLEAN_DATA_PATH)\n",
    "\n",
    "print(f\"✅ Loaded cleaned dataset with {len(df)} reviews\")\n",
    "df.head()\n"
   ]
  },
  {
   "attachments": {},
   "cell_type": "markdown",
   "metadata": {},
   "source": [
    "## Step 2: Initialize VADER Sentiment Analyzer\n"
   ]
  },
  {
   "cell_type": "code",
   "execution_count": 2,
   "metadata": {},
   "outputs": [],
   "source": [
    "from vaderSentiment.vaderSentiment import SentimentIntensityAnalyzer\n",
    "\n",
    "sia = SentimentIntensityAnalyzer()\n"
   ]
  },
  {
   "attachments": {},
   "cell_type": "markdown",
   "metadata": {},
   "source": [
    "## Step 3: Sentiment from Text (VADER)\n",
    "\n"
   ]
  },
  {
   "cell_type": "code",
   "execution_count": 3,
   "metadata": {},
   "outputs": [],
   "source": [
    "# 1. VADER Sentiment Analysis & Categorization\n",
    "\n",
    "def categorize_netflix_sentiment(score):\n",
    "    if score >= 0.05:\n",
    "        return \"positive\"\n",
    "    elif score <= -0.05:\n",
    "        return \"negative\"\n",
    "    else:\n",
    "        return \"neutral\"\n"
   ]
  },
  {
   "cell_type": "code",
   "execution_count": 4,
   "metadata": {},
   "outputs": [],
   "source": [
    "# 2. Apply VADER to each review\n",
    "df[\"vader_score\"] = df[\"clean_review\"].apply(lambda x: sia.polarity_scores(str(x))[\"compound\"])\n",
    "df[\"sentiment\"] = df[\"vader_score\"].apply(categorize_netflix_sentiment)"
   ]
  },
  {
   "attachments": {},
   "cell_type": "markdown",
   "metadata": {},
   "source": [
    "## Step 4: Sentiment from Rating\n"
   ]
  },
  {
   "cell_type": "code",
   "execution_count": 5,
   "metadata": {},
   "outputs": [],
   "source": [
    "# 3. Sentiment from star ratings\n",
    "# -----------------------------\n",
    "def sentiment_from_rating(rating):\n",
    "    if rating >= 4:   # 4 or 5 stars\n",
    "        return \"positive\"\n",
    "    elif rating == 3: # middle rating\n",
    "        return \"neutral\"\n",
    "    else:             # 1 or 2 stars\n",
    "        return \"negative\""
   ]
  },
  {
   "cell_type": "code",
   "execution_count": 6,
   "metadata": {},
   "outputs": [],
   "source": [
    "# 4. Apply to dataset\n",
    "df[\"sentiment_rating\"] = df[\"rating\"].apply(sentiment_from_rating)\n"
   ]
  },
  {
   "attachments": {},
   "cell_type": "markdown",
   "metadata": {},
   "source": [
    "## Step 5: Combined Sentiment Logic\n"
   ]
  },
  {
   "cell_type": "code",
   "execution_count": 7,
   "metadata": {},
   "outputs": [],
   "source": [
    "# 5. Combined sentiment function\n",
    "def combined_sentiment(vader, rating):\n",
    "    if vader == rating:\n",
    "        return vader  # Both agree\n",
    "    elif vader == \"neutral\":\n",
    "        return rating  # Trust rating if VADER is neutral\n",
    "    elif rating == \"neutral\":\n",
    "        return vader  # Trust VADER if rating is neutral\n",
    "    else:\n",
    "        # If one says positive and the other says negative → neutral\n",
    "        return \"neutral\"\n"
   ]
  },
  {
   "cell_type": "code",
   "execution_count": 8,
   "metadata": {},
   "outputs": [],
   "source": [
    "# 6. Apply to dataset\n",
    "df[\"sentiment_combined\"] = df.apply(lambda x: combined_sentiment(x[\"sentiment\"], x[\"sentiment_rating\"]), axis=1)"
   ]
  },
  {
   "attachments": {},
   "cell_type": "markdown",
   "metadata": {},
   "source": [
    "## Step 6: Sentiment Alignment Analysis \n",
    "\n",
    "This section compares how VADER text sentiment aligns with user star-rating sentiment and analyzes how conflicts are resolved through the combined sentiment logic.\n"
   ]
  },
  {
   "cell_type": "code",
   "execution_count": 9,
   "metadata": {},
   "outputs": [
    {
     "name": "stdout",
     "output_type": "stream",
     "text": [
      "✅ VADER matches rating-based sentiment 59.73% of the time.\n"
     ]
    }
   ],
   "source": [
    "# 7. Compare VADER vs Rating\n",
    "# -----------------------------\n",
    "comparison = (df[\"sentiment\"] == df[\"sentiment_rating\"]).mean()\n",
    "print(f\"✅ VADER matches rating-based sentiment {comparison*100:.2f}% of the time.\")"
   ]
  },
  {
   "cell_type": "code",
   "execution_count": 10,
   "metadata": {},
   "outputs": [
    {
     "name": "stdout",
     "output_type": "stream",
     "text": [
      "✅ VADER matches rating-based sentiment 79.86% of the time.\n"
     ]
    }
   ],
   "source": [
    "# 8. Comapre Sentiment Combined vs Rating\n",
    "comparison = (df[\"sentiment_combined\"] == df[\"sentiment_rating\"]).mean()\n",
    "print(f\"✅ VADER matches rating-based sentiment {comparison*100:.2f}% of the time.\")"
   ]
  },
  {
   "attachments": {},
   "cell_type": "markdown",
   "metadata": {},
   "source": [
    "## Step 7: Summary Statistics "
   ]
  },
  {
   "cell_type": "code",
   "execution_count": 11,
   "metadata": {},
   "outputs": [
    {
     "name": "stdout",
     "output_type": "stream",
     "text": [
      "\n",
      "📊 Sentiment Summary\n",
      "sentiment\n",
      "positive    22570\n",
      "negative     9868\n",
      "neutral      8800\n",
      "Name: count, dtype: int64\n"
     ]
    }
   ],
   "source": [
    "# 9. Summary statistics\n",
    "print(\"\\n📊 Sentiment Summary\")\n",
    "print(df['sentiment'].value_counts())"
   ]
  },
  {
   "cell_type": "code",
   "execution_count": 12,
   "metadata": {},
   "outputs": [
    {
     "name": "stdout",
     "output_type": "stream",
     "text": [
      "\n",
      "📊 Rating-based Sentiment Summary\n",
      "sentiment_rating\n",
      "negative    19770\n",
      "positive    19094\n",
      "neutral      2374\n",
      "Name: count, dtype: int64\n"
     ]
    }
   ],
   "source": [
    "# 10. Summary statistics for rating-based sentiment\n",
    "print(\"\\n📊 Rating-based Sentiment Summary\")\n",
    "print(df['sentiment_rating'].value_counts())"
   ]
  },
  {
   "cell_type": "code",
   "execution_count": 13,
   "metadata": {},
   "outputs": [
    {
     "name": "stdout",
     "output_type": "stream",
     "text": [
      "\n",
      "📊 Combined Sentiment Summary\n",
      "sentiment_combined\n",
      "positive    19729\n",
      "negative    14578\n",
      "neutral      6931\n",
      "Name: count, dtype: int64\n"
     ]
    }
   ],
   "source": [
    "# 11. Summary statistics for combined sentiment\n",
    "print(\"\\n📊 Combined Sentiment Summary\")\n",
    "print(df['sentiment_combined'].value_counts())"
   ]
  },
  {
   "attachments": {},
   "cell_type": "markdown",
   "metadata": {},
   "source": [
    "## Step 8: Save Cleaned Dataset\n"
   ]
  },
  {
   "cell_type": "code",
   "execution_count": 14,
   "metadata": {},
   "outputs": [
    {
     "name": "stdout",
     "output_type": "stream",
     "text": [
      "\n",
      "✅ Sentiment-labeled dataset saved to 'data/netflix_reviews_Cleaned.csv'\n",
      "📊 Final labeled reviews: 41238\n"
     ]
    },
    {
     "data": {
      "text/html": [
       "<div>\n",
       "<style scoped>\n",
       "    .dataframe tbody tr th:only-of-type {\n",
       "        vertical-align: middle;\n",
       "    }\n",
       "\n",
       "    .dataframe tbody tr th {\n",
       "        vertical-align: top;\n",
       "    }\n",
       "\n",
       "    .dataframe thead th {\n",
       "        text-align: right;\n",
       "    }\n",
       "</style>\n",
       "<table border=\"1\" class=\"dataframe\">\n",
       "  <thead>\n",
       "    <tr style=\"text-align: right;\">\n",
       "      <th></th>\n",
       "      <th>username</th>\n",
       "      <th>review</th>\n",
       "      <th>rating</th>\n",
       "      <th>date</th>\n",
       "      <th>country</th>\n",
       "      <th>source</th>\n",
       "      <th>clean_review</th>\n",
       "      <th>vader_score</th>\n",
       "      <th>sentiment</th>\n",
       "      <th>sentiment_rating</th>\n",
       "      <th>sentiment_combined</th>\n",
       "    </tr>\n",
       "  </thead>\n",
       "  <tbody>\n",
       "    <tr>\n",
       "      <th>0</th>\n",
       "      <td>Robert</td>\n",
       "      <td>brainwashing children. don't deny it, the proo...</td>\n",
       "      <td>1</td>\n",
       "      <td>2025-10-08 00:57:12</td>\n",
       "      <td>NG</td>\n",
       "      <td>Play Store</td>\n",
       "      <td>brainwashing children dont deny proof pudding</td>\n",
       "      <td>-0.1190</td>\n",
       "      <td>negative</td>\n",
       "      <td>negative</td>\n",
       "      <td>negative</td>\n",
       "    </tr>\n",
       "    <tr>\n",
       "      <th>1</th>\n",
       "      <td>Abraham Bernabe</td>\n",
       "      <td>disgusting woke agenda. just cancel and uninst...</td>\n",
       "      <td>1</td>\n",
       "      <td>2025-10-08 00:35:03</td>\n",
       "      <td>NG</td>\n",
       "      <td>Play Store</td>\n",
       "      <td>disgusting woke agenda cancel uninstall garbage</td>\n",
       "      <td>-0.6597</td>\n",
       "      <td>negative</td>\n",
       "      <td>negative</td>\n",
       "      <td>negative</td>\n",
       "    </tr>\n",
       "    <tr>\n",
       "      <th>2</th>\n",
       "      <td>Kyle Martin</td>\n",
       "      <td>Please fix the pausing issue. I am trying to w...</td>\n",
       "      <td>2</td>\n",
       "      <td>2025-10-08 00:33:36</td>\n",
       "      <td>NG</td>\n",
       "      <td>Play Store</td>\n",
       "      <td>please fix pausing issue trying watch monday n...</td>\n",
       "      <td>-0.1779</td>\n",
       "      <td>negative</td>\n",
       "      <td>negative</td>\n",
       "      <td>negative</td>\n",
       "    </tr>\n",
       "    <tr>\n",
       "      <th>3</th>\n",
       "      <td>Jarrett</td>\n",
       "      <td>Doesn't really have that much titles, heh lol</td>\n",
       "      <td>3</td>\n",
       "      <td>2025-10-08 00:30:51</td>\n",
       "      <td>NG</td>\n",
       "      <td>Play Store</td>\n",
       "      <td>doesnt really much titles heh lol</td>\n",
       "      <td>0.2350</td>\n",
       "      <td>positive</td>\n",
       "      <td>neutral</td>\n",
       "      <td>positive</td>\n",
       "    </tr>\n",
       "    <tr>\n",
       "      <th>4</th>\n",
       "      <td>Michael Raber</td>\n",
       "      <td>gotta pay for the app, they raise the price wi...</td>\n",
       "      <td>1</td>\n",
       "      <td>2025-10-08 00:26:11</td>\n",
       "      <td>NG</td>\n",
       "      <td>Play Store</td>\n",
       "      <td>gotta pay app raise price warning work half time</td>\n",
       "      <td>-0.4215</td>\n",
       "      <td>negative</td>\n",
       "      <td>negative</td>\n",
       "      <td>negative</td>\n",
       "    </tr>\n",
       "  </tbody>\n",
       "</table>\n",
       "</div>"
      ],
      "text/plain": [
       "          username                                             review  rating  \\\n",
       "0           Robert  brainwashing children. don't deny it, the proo...       1   \n",
       "1  Abraham Bernabe  disgusting woke agenda. just cancel and uninst...       1   \n",
       "2      Kyle Martin  Please fix the pausing issue. I am trying to w...       2   \n",
       "3          Jarrett      Doesn't really have that much titles, heh lol       3   \n",
       "4    Michael Raber  gotta pay for the app, they raise the price wi...       1   \n",
       "\n",
       "                  date country      source  \\\n",
       "0  2025-10-08 00:57:12      NG  Play Store   \n",
       "1  2025-10-08 00:35:03      NG  Play Store   \n",
       "2  2025-10-08 00:33:36      NG  Play Store   \n",
       "3  2025-10-08 00:30:51      NG  Play Store   \n",
       "4  2025-10-08 00:26:11      NG  Play Store   \n",
       "\n",
       "                                        clean_review  vader_score sentiment  \\\n",
       "0      brainwashing children dont deny proof pudding      -0.1190  negative   \n",
       "1    disgusting woke agenda cancel uninstall garbage      -0.6597  negative   \n",
       "2  please fix pausing issue trying watch monday n...      -0.1779  negative   \n",
       "3                  doesnt really much titles heh lol       0.2350  positive   \n",
       "4   gotta pay app raise price warning work half time      -0.4215  negative   \n",
       "\n",
       "  sentiment_rating sentiment_combined  \n",
       "0         negative           negative  \n",
       "1         negative           negative  \n",
       "2         negative           negative  \n",
       "3          neutral           positive  \n",
       "4         negative           negative  "
      ]
     },
     "execution_count": 14,
     "metadata": {},
     "output_type": "execute_result"
    }
   ],
   "source": [
    "# 12. Save Cleaned dataset\n",
    "CLEANED_OUTPUT_LABELED_PATH = Path(\"../data/netflix_reviews_Cleaned.csv\")\n",
    "df.to_csv(CLEANED_OUTPUT_LABELED_PATH, index=False)\n",
    "\n",
    "print(\"\\n✅ Sentiment-labeled dataset saved to 'data/netflix_reviews_Cleaned.csv'\")\n",
    "print(f\"📊 Final labeled reviews: {len(df)}\")\n",
    "df.head()\n"
   ]
  },
  {
   "attachments": {},
   "cell_type": "markdown",
   "metadata": {},
   "source": [
    "## Final Sentiment Label Used for Analysis: `sentiment_combined`\n",
    "\n",
    "For this project, multiple sentiment labels were generated:\n",
    "\n",
    "| Column | Description |\n",
    "|--------|------------|\n",
    "| `sentiment` | Sentiment classified using **VADER** based on review text only. |\n",
    "| `sentiment_rating` | Sentiment derived from **user star rating** (⭐). |\n",
    "| `sentiment_combined` | ✅ **Final label used for all analysis and modeling.** |\n",
    "\n",
    "## ✅ Why I Chose `sentiment_combined`\n",
    "Using only VADER or only star rating can be misleading:\n",
    "\n",
    "- 📌 **Star ratings** can be **generic** (e.g., 3-star reviews with positive text).\n",
    "- 📌 **Text sentiment (VADER)** may sometimes **misinterpret sarcasm or short reviews**.\n",
    "- ✅ By **combining both**, I created a more **balanced and realistic sentiment signal**:\n",
    "  - If both agree → keep that label.\n",
    "  - If one is neutral → trust the stronger signal.\n",
    "  - If both strongly disagree → mark as **neutral** to reduce noise.\n",
    "\n",
    "> 👉 Therefore, **all further analysis, visualizations, and ML modeling use `sentiment_combined` as the final sentiment column.**\n"
   ]
  },
  {
   "cell_type": "code",
   "execution_count": 15,
   "metadata": {},
   "outputs": [
    {
     "name": "stdout",
     "output_type": "stream",
     "text": [
      "sentiment_combined\n",
      "positive    19729\n",
      "negative    14578\n",
      "neutral      6931\n",
      "Name: count, dtype: int64\n",
      "\n",
      "✅ Confirmed: Using `sentiment_combined` for all downstream analysis.\n"
     ]
    }
   ],
   "source": [
    "print(df['sentiment_combined'].value_counts())\n",
    "print(\"\\n✅ Confirmed: Using `sentiment_combined` for all downstream analysis.\")\n"
   ]
  },
  {
   "attachments": {},
   "cell_type": "markdown",
   "metadata": {},
   "source": [
    "### Sentiment Labeling Completed!\n",
    "\n",
    "➡️ Next Notebook: **04_exploratory_data_analysis.ipynb**\n"
   ]
  }
 ],
 "metadata": {
  "kernelspec": {
   "display_name": "Python (netflix_review)",
   "language": "python",
   "name": "netflix_review"
  },
  "language_info": {
   "codemirror_mode": {
    "name": "ipython",
    "version": 3
   },
   "file_extension": ".py",
   "mimetype": "text/x-python",
   "name": "python",
   "nbconvert_exporter": "python",
   "pygments_lexer": "ipython3",
   "version": "3.11.13"
  },
  "orig_nbformat": 4
 },
 "nbformat": 4,
 "nbformat_minor": 2
}
