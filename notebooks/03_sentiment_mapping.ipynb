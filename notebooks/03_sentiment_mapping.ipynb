{
 "cells": [
  {
   "attachments": {},
   "cell_type": "markdown",
   "metadata": {},
   "source": [
    "# 03 — Sentiment Mapping (Text + Rating Combined)\n",
    "\n",
    "In this notebook, we apply VADER sentiment to review text, generate rating-based sentiment,\n",
    "and combine both into a final sentiment label.\n",
    "\n",
    "✅ Input: `../data/netflix_reviews_clean.csv`  \n",
    "✅ Output: `../data/netflix_reviews_cleaned.csv`\n"
   ]
  },
  {
   "attachments": {},
   "cell_type": "markdown",
   "metadata": {},
   "source": [
    "## Step 1: Load Clean Dataset"
   ]
  },
  {
   "cell_type": "code",
   "execution_count": null,
   "metadata": {},
   "outputs": [],
   "source": [
    "import pandas as pd\n",
    "from pathlib import Path\n",
    "\n",
    "CLEAN_DATA_PATH = Path(\"../data/netflix_reviews_clean.csv\")\n",
    "df = pd.read_csv(CLEAN_DATA_PATH)\n",
    "\n",
    "print(f\"✅ Loaded cleaned dataset with {len(df)} reviews\")\n",
    "df.head()\n"
   ]
  },
  {
   "attachments": {},
   "cell_type": "markdown",
   "metadata": {},
   "source": [
    "## Step 2: Initialize VADER Sentiment Analyzer\n"
   ]
  },
  {
   "cell_type": "code",
   "execution_count": null,
   "metadata": {},
   "outputs": [],
   "source": [
    "from vaderSentiment.vaderSentiment import SentimentIntensityAnalyzer\n",
    "\n",
    "sia = SentimentIntensityAnalyzer()\n"
   ]
  },
  {
   "attachments": {},
   "cell_type": "markdown",
   "metadata": {},
   "source": [
    "## Step 3: Sentiment from Text (VADER)\n",
    "\n"
   ]
  },
  {
   "cell_type": "code",
   "execution_count": null,
   "metadata": {},
   "outputs": [],
   "source": [
    "# 1. VADER Sentiment Analysis & Categorization\n",
    "\n",
    "def categorize_netflix_sentiment(score):\n",
    "    if score >= 0.05:\n",
    "        return \"positive\"\n",
    "    elif score <= -0.05:\n",
    "        return \"negative\"\n",
    "    else:\n",
    "        return \"neutral\"\n"
   ]
  },
  {
   "cell_type": "code",
   "execution_count": null,
   "metadata": {},
   "outputs": [],
   "source": [
    "# 2. Apply VADER to each review\n",
    "df[\"vader_score\"] = df[\"clean_review\"].apply(lambda x: sia.polarity_scores(str(x))[\"compound\"])\n",
    "df[\"sentiment\"] = df[\"vader_score\"].apply(categorize_netflix_sentiment)"
   ]
  },
  {
   "attachments": {},
   "cell_type": "markdown",
   "metadata": {},
   "source": [
    "## Step 4: Sentiment from Rating\n"
   ]
  },
  {
   "cell_type": "code",
   "execution_count": null,
   "metadata": {},
   "outputs": [],
   "source": [
    "# 3. Sentiment from star ratings\n",
    "# -----------------------------\n",
    "def sentiment_from_rating(rating):\n",
    "    if rating >= 4:   # 4 or 5 stars\n",
    "        return \"positive\"\n",
    "    elif rating == 3: # middle rating\n",
    "        return \"neutral\"\n",
    "    else:             # 1 or 2 stars\n",
    "        return \"negative\""
   ]
  },
  {
   "cell_type": "code",
   "execution_count": null,
   "metadata": {},
   "outputs": [],
   "source": [
    "# 4. Apply to dataset\n",
    "df[\"sentiment_rating\"] = df[\"rating\"].apply(sentiment_from_rating)\n"
   ]
  },
  {
   "attachments": {},
   "cell_type": "markdown",
   "metadata": {},
   "source": [
    "## Step 5: Combined Sentiment Logic\n"
   ]
  },
  {
   "cell_type": "code",
   "execution_count": null,
   "metadata": {},
   "outputs": [],
   "source": [
    "# 5. Combined sentiment function\n",
    "def combined_sentiment(vader, rating):\n",
    "    if vader == rating:\n",
    "        return vader  # Both agree\n",
    "    elif vader == \"neutral\":\n",
    "        return rating  # Trust rating if VADER is neutral\n",
    "    elif rating == \"neutral\":\n",
    "        return vader  # Trust VADER if rating is neutral\n",
    "    else:\n",
    "        # If one says positive and the other says negative → neutral\n",
    "        return \"neutral\"\n"
   ]
  },
  {
   "cell_type": "code",
   "execution_count": null,
   "metadata": {},
   "outputs": [],
   "source": [
    "# 6. Apply to dataset\n",
    "df[\"sentiment_combined\"] = df.apply(lambda x: combined_sentiment(x[\"sentiment\"], x[\"sentiment_rating\"]), axis=1)"
   ]
  },
  {
   "attachments": {},
   "cell_type": "markdown",
   "metadata": {},
   "source": [
    "## Step 6: Sentiment Alignment Analysis \n",
    "\n",
    "This section compares how VADER text sentiment aligns with user star-rating sentiment and analyzes how conflicts are resolved through the combined sentiment logic.\n"
   ]
  },
  {
   "cell_type": "code",
   "execution_count": null,
   "metadata": {},
   "outputs": [],
   "source": [
    "# 7. Compare VADER vs Rating\n",
    "# -----------------------------\n",
    "comparison = (df[\"sentiment\"] == df[\"sentiment_rating\"]).mean()\n",
    "print(f\"✅ VADER matches rating-based sentiment {comparison*100:.2f}% of the time.\")"
   ]
  },
  {
   "cell_type": "code",
   "execution_count": null,
   "metadata": {},
   "outputs": [],
   "source": [
    "# 8. Comapre Sentiment Combined vs Rating\n",
    "comparison = (df[\"sentiment_combined\"] == df[\"sentiment_rating\"]).mean()\n",
    "print(f\"✅ VADER matches rating-based sentiment {comparison*100:.2f}% of the time.\")"
   ]
  },
  {
   "attachments": {},
   "cell_type": "markdown",
   "metadata": {},
   "source": [
    "## Step 7: Summary Statistics "
   ]
  },
  {
   "cell_type": "code",
   "execution_count": null,
   "metadata": {},
   "outputs": [],
   "source": [
    "# 9. Summary statistics\n",
    "print(\"\\n📊 Sentiment Summary\")\n",
    "print(df['sentiment'].value_counts())"
   ]
  },
  {
   "cell_type": "code",
   "execution_count": null,
   "metadata": {},
   "outputs": [],
   "source": [
    "# 10. Summary statistics for rating-based sentiment\n",
    "print(\"\\n📊 Rating-based Sentiment Summary\")\n",
    "print(df['sentiment_rating'].value_counts())"
   ]
  },
  {
   "cell_type": "code",
   "execution_count": null,
   "metadata": {},
   "outputs": [],
   "source": [
    "# 11. Summary statistics for combined sentiment\n",
    "print(\"\\n📊 Combined Sentiment Summary\")\n",
    "print(df['sentiment_combined'].value_counts())"
   ]
  },
  {
   "attachments": {},
   "cell_type": "markdown",
   "metadata": {},
   "source": [
    "## 💾 Step 6: Save Cleaned Dataset\n"
   ]
  },
  {
   "cell_type": "code",
   "execution_count": null,
   "metadata": {},
   "outputs": [],
   "source": [
    "# 12. Save Cleaned dataset\n",
    "CLEANED_OUTPUT_LABELED_PATH = Path(\"../data/netflix_reviews_Cleaned.csv\")\n",
    "df.to_csv(CLEANED_OUTPUT_LABELED_PATH, index=False)\n",
    "\n",
    "print(\"\\n✅ Sentiment-labeled dataset saved to 'data/netflix_reviews_Cleaned.csv'\")\n",
    "print(f\"📊 Final labeled reviews: {len(df)}\")\n",
    "df.head()\n"
   ]
  },
  {
   "attachments": {},
   "cell_type": "markdown",
   "metadata": {},
   "source": [
    "### Sentiment Labeling Completed!\n",
    "➡️ Next Notebook: **04_exploratory_data_analysis.ipynb**\n"
   ]
  }
 ],
 "metadata": {
  "language_info": {
   "name": "python"
  },
  "orig_nbformat": 4
 },
 "nbformat": 4,
 "nbformat_minor": 2
}
